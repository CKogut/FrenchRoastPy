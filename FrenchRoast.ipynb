{
 "cells": [
  {
   "cell_type": "markdown",
   "id": "7fab9d8b-2378-4451-904d-48a0ab851513",
   "metadata": {},
   "source": [
    "# FrenchRoastPy aka Transaction Parsing"
   ]
  },
  {
   "cell_type": "markdown",
   "id": "70c66146-1c19-4394-bfbd-da90ada28d15",
   "metadata": {},
   "source": [
    "## Create dataframe to store balances"
   ]
  },
  {
   "cell_type": "code",
   "execution_count": 1,
   "id": "e592e0d9-90fc-4ab6-9ee2-798a979bb58a",
   "metadata": {},
   "outputs": [],
   "source": [
    "import pandas as pd\n",
    "import csv\n",
    "import json\n",
    "from decimal import *"
   ]
  },
  {
   "cell_type": "code",
   "execution_count": 2,
   "id": "6c66a770-e1cf-4af2-acbd-7b63d80997ff",
   "metadata": {},
   "outputs": [],
   "source": [
    "# Create a df containing just transactionId, customerId, accountID\n",
    "df = pd.read_csv('resources/secondset.csv',\n",
    "                 index_col='transactionId',\n",
    "                 usecols=[0, 1, 2])"
   ]
  },
  {
   "cell_type": "code",
   "execution_count": 3,
   "id": "85b2bd0b-7d3d-4e10-9ab0-3d67b1e3b7fd",
   "metadata": {},
   "outputs": [],
   "source": [
    "# Drop any row where there is a duplicate combination of customer and account\n",
    "# This leave only unique customer/account combonations for tracking the balance\n",
    "df = df.drop_duplicates(subset=['customerId', 'accountId'])"
   ]
  },
  {
   "cell_type": "code",
   "execution_count": 4,
   "id": "c5f5fc0d-1e69-4cac-accd-f2115ea22159",
   "metadata": {},
   "outputs": [],
   "source": [
    "# .set_index creates a multi index, drops the transaction index\n",
    "# .sort_index to sort index numerically\n",
    "df = df.set_index(['customerId', 'accountId']).sort_index()"
   ]
  },
  {
   "cell_type": "code",
   "execution_count": 5,
   "id": "ec5b41ae-d53c-4d80-b841-bb76f79bb23a",
   "metadata": {},
   "outputs": [],
   "source": [
    "# add a balances column\n",
    "df['balance'] = 0.00"
   ]
  },
  {
   "cell_type": "code",
   "execution_count": 6,
   "id": "8adc0e03-eedc-40a4-b3ac-2b39e1fba576",
   "metadata": {},
   "outputs": [
    {
     "data": {
      "text/html": [
       "<div>\n",
       "<style scoped>\n",
       "    .dataframe tbody tr th:only-of-type {\n",
       "        vertical-align: middle;\n",
       "    }\n",
       "\n",
       "    .dataframe tbody tr th {\n",
       "        vertical-align: top;\n",
       "    }\n",
       "\n",
       "    .dataframe thead th {\n",
       "        text-align: right;\n",
       "    }\n",
       "</style>\n",
       "<table border=\"1\" class=\"dataframe\">\n",
       "  <thead>\n",
       "    <tr style=\"text-align: right;\">\n",
       "      <th></th>\n",
       "      <th></th>\n",
       "      <th>balance</th>\n",
       "    </tr>\n",
       "    <tr>\n",
       "      <th>customerId</th>\n",
       "      <th>accountId</th>\n",
       "      <th></th>\n",
       "    </tr>\n",
       "  </thead>\n",
       "  <tbody>\n",
       "    <tr>\n",
       "      <th rowspan=\"3\" valign=\"top\">10</th>\n",
       "      <th>20</th>\n",
       "      <td>0.0</td>\n",
       "    </tr>\n",
       "    <tr>\n",
       "      <th>22</th>\n",
       "      <td>0.0</td>\n",
       "    </tr>\n",
       "    <tr>\n",
       "      <th>25</th>\n",
       "      <td>0.0</td>\n",
       "    </tr>\n",
       "    <tr>\n",
       "      <th rowspan=\"2\" valign=\"top\">11</th>\n",
       "      <th>21</th>\n",
       "      <td>0.0</td>\n",
       "    </tr>\n",
       "    <tr>\n",
       "      <th>24</th>\n",
       "      <td>0.0</td>\n",
       "    </tr>\n",
       "    <tr>\n",
       "      <th rowspan=\"6\" valign=\"top\">12</th>\n",
       "      <th>20</th>\n",
       "      <td>0.0</td>\n",
       "    </tr>\n",
       "    <tr>\n",
       "      <th>21</th>\n",
       "      <td>0.0</td>\n",
       "    </tr>\n",
       "    <tr>\n",
       "      <th>22</th>\n",
       "      <td>0.0</td>\n",
       "    </tr>\n",
       "    <tr>\n",
       "      <th>23</th>\n",
       "      <td>0.0</td>\n",
       "    </tr>\n",
       "    <tr>\n",
       "      <th>24</th>\n",
       "      <td>0.0</td>\n",
       "    </tr>\n",
       "    <tr>\n",
       "      <th>26</th>\n",
       "      <td>0.0</td>\n",
       "    </tr>\n",
       "    <tr>\n",
       "      <th rowspan=\"2\" valign=\"top\">13</th>\n",
       "      <th>24</th>\n",
       "      <td>0.0</td>\n",
       "    </tr>\n",
       "    <tr>\n",
       "      <th>25</th>\n",
       "      <td>0.0</td>\n",
       "    </tr>\n",
       "    <tr>\n",
       "      <th rowspan=\"5\" valign=\"top\">14</th>\n",
       "      <th>21</th>\n",
       "      <td>0.0</td>\n",
       "    </tr>\n",
       "    <tr>\n",
       "      <th>22</th>\n",
       "      <td>0.0</td>\n",
       "    </tr>\n",
       "    <tr>\n",
       "      <th>24</th>\n",
       "      <td>0.0</td>\n",
       "    </tr>\n",
       "    <tr>\n",
       "      <th>25</th>\n",
       "      <td>0.0</td>\n",
       "    </tr>\n",
       "    <tr>\n",
       "      <th>26</th>\n",
       "      <td>0.0</td>\n",
       "    </tr>\n",
       "  </tbody>\n",
       "</table>\n",
       "</div>"
      ],
      "text/plain": [
       "                      balance\n",
       "customerId accountId         \n",
       "10         20             0.0\n",
       "           22             0.0\n",
       "           25             0.0\n",
       "11         21             0.0\n",
       "           24             0.0\n",
       "12         20             0.0\n",
       "           21             0.0\n",
       "           22             0.0\n",
       "           23             0.0\n",
       "           24             0.0\n",
       "           26             0.0\n",
       "13         24             0.0\n",
       "           25             0.0\n",
       "14         21             0.0\n",
       "           22             0.0\n",
       "           24             0.0\n",
       "           25             0.0\n",
       "           26             0.0"
      ]
     },
     "execution_count": 6,
     "metadata": {},
     "output_type": "execute_result"
    }
   ],
   "source": [
    "df"
   ]
  },
  {
   "cell_type": "markdown",
   "id": "01fe7c4e-229d-4cbb-9785-672c15ffc8e3",
   "metadata": {},
   "source": [
    "## Calculate balances per account"
   ]
  },
  {
   "cell_type": "code",
   "execution_count": 9,
   "id": "57cdfaae-684b-46bd-9e90-60b472ec43a7",
   "metadata": {},
   "outputs": [],
   "source": [
    "# For each line in csv determine transaction type\n",
    "# Increment or decrement the balance in the appropriate account \n",
    "# This sometimes cause a warning that a negative number \"has a dtype incompatible with float64\""
   ]
  },
  {
   "cell_type": "code",
   "execution_count": 8,
   "id": "0bb580ad-f5b8-4610-ae94-92926e105cfa",
   "metadata": {},
   "outputs": [
    {
     "name": "stderr",
     "output_type": "stream",
     "text": [
      "/var/folders/s2/3b5ld8z148l3qsrn3gkrglv00000gp/T/ipykernel_12618/3599337651.py:16: FutureWarning: Setting an item of incompatible dtype is deprecated and will raise in a future error of pandas. Value '-663.59' has dtype incompatible with float64, please explicitly cast to a compatible dtype first.\n",
      "  df.loc[target_cell] = current_balance - Decimal(amount)\n"
     ]
    }
   ],
   "source": [
    "with open('resources/secondset.csv', 'r') as csv_file:\n",
    "    file = csv.DictReader(csv_file)\n",
    "\n",
    "    for row in file:\n",
    "        customer_id = int(row['customerId'])\n",
    "        account_id = int(row['accountId'])\n",
    "        transaction_type = row['transactionType']\n",
    "        amount = Decimal(row['amount'])\n",
    "\n",
    "        target_cell = (customer_id, account_id), ('balance')\n",
    "        current_balance = Decimal(df.loc[target_cell])\n",
    "        \n",
    "        if transaction_type == 'deposit':\n",
    "            df.loc[target_cell] = current_balance + Decimal(amount)\n",
    "        if transaction_type == 'withdrawal':\n",
    "            df.loc[target_cell] = current_balance - Decimal(amount)"
   ]
  },
  {
   "cell_type": "code",
   "execution_count": 10,
   "id": "3f944c66-daba-444f-aefc-88881b4340f3",
   "metadata": {},
   "outputs": [
    {
     "data": {
      "text/html": [
       "<div>\n",
       "<style scoped>\n",
       "    .dataframe tbody tr th:only-of-type {\n",
       "        vertical-align: middle;\n",
       "    }\n",
       "\n",
       "    .dataframe tbody tr th {\n",
       "        vertical-align: top;\n",
       "    }\n",
       "\n",
       "    .dataframe thead th {\n",
       "        text-align: right;\n",
       "    }\n",
       "</style>\n",
       "<table border=\"1\" class=\"dataframe\">\n",
       "  <thead>\n",
       "    <tr style=\"text-align: right;\">\n",
       "      <th></th>\n",
       "      <th></th>\n",
       "      <th>balance</th>\n",
       "    </tr>\n",
       "    <tr>\n",
       "      <th>customerId</th>\n",
       "      <th>accountId</th>\n",
       "      <th></th>\n",
       "    </tr>\n",
       "  </thead>\n",
       "  <tbody>\n",
       "    <tr>\n",
       "      <th rowspan=\"3\" valign=\"top\">10</th>\n",
       "      <th>20</th>\n",
       "      <td>-238.24</td>\n",
       "    </tr>\n",
       "    <tr>\n",
       "      <th>22</th>\n",
       "      <td>432.93</td>\n",
       "    </tr>\n",
       "    <tr>\n",
       "      <th>25</th>\n",
       "      <td>583.73</td>\n",
       "    </tr>\n",
       "    <tr>\n",
       "      <th rowspan=\"2\" valign=\"top\">11</th>\n",
       "      <th>21</th>\n",
       "      <td>812.45</td>\n",
       "    </tr>\n",
       "    <tr>\n",
       "      <th>24</th>\n",
       "      <td>-542.67</td>\n",
       "    </tr>\n",
       "    <tr>\n",
       "      <th rowspan=\"6\" valign=\"top\">12</th>\n",
       "      <th>20</th>\n",
       "      <td>-907.89</td>\n",
       "    </tr>\n",
       "    <tr>\n",
       "      <th>21</th>\n",
       "      <td>-976.01</td>\n",
       "    </tr>\n",
       "    <tr>\n",
       "      <th>22</th>\n",
       "      <td>-1695.83</td>\n",
       "    </tr>\n",
       "    <tr>\n",
       "      <th>23</th>\n",
       "      <td>-374.90</td>\n",
       "    </tr>\n",
       "    <tr>\n",
       "      <th>24</th>\n",
       "      <td>-697.57</td>\n",
       "    </tr>\n",
       "    <tr>\n",
       "      <th>26</th>\n",
       "      <td>-666.25</td>\n",
       "    </tr>\n",
       "    <tr>\n",
       "      <th rowspan=\"2\" valign=\"top\">13</th>\n",
       "      <th>24</th>\n",
       "      <td>-906.81</td>\n",
       "    </tr>\n",
       "    <tr>\n",
       "      <th>25</th>\n",
       "      <td>-196.11</td>\n",
       "    </tr>\n",
       "    <tr>\n",
       "      <th rowspan=\"5\" valign=\"top\">14</th>\n",
       "      <th>21</th>\n",
       "      <td>-1765.03</td>\n",
       "    </tr>\n",
       "    <tr>\n",
       "      <th>22</th>\n",
       "      <td>-663.59</td>\n",
       "    </tr>\n",
       "    <tr>\n",
       "      <th>24</th>\n",
       "      <td>530.19</td>\n",
       "    </tr>\n",
       "    <tr>\n",
       "      <th>25</th>\n",
       "      <td>-394.00</td>\n",
       "    </tr>\n",
       "    <tr>\n",
       "      <th>26</th>\n",
       "      <td>480.25</td>\n",
       "    </tr>\n",
       "  </tbody>\n",
       "</table>\n",
       "</div>"
      ],
      "text/plain": [
       "                       balance\n",
       "customerId accountId          \n",
       "10         20          -238.24\n",
       "           22           432.93\n",
       "           25           583.73\n",
       "11         21           812.45\n",
       "           24          -542.67\n",
       "12         20          -907.89\n",
       "           21          -976.01\n",
       "           22         -1695.83\n",
       "           23          -374.90\n",
       "           24          -697.57\n",
       "           26          -666.25\n",
       "13         24          -906.81\n",
       "           25          -196.11\n",
       "14         21         -1765.03\n",
       "           22          -663.59\n",
       "           24           530.19\n",
       "           25          -394.00\n",
       "           26           480.25"
      ]
     },
     "execution_count": 10,
     "metadata": {},
     "output_type": "execute_result"
    }
   ],
   "source": [
    "df.head(20)"
   ]
  },
  {
   "cell_type": "markdown",
   "id": "27bb820d-e63c-4d0f-aa16-4c57e9daa52b",
   "metadata": {},
   "source": [
    "## Convert to properly formatted JSON"
   ]
  },
  {
   "cell_type": "code",
   "execution_count": 20,
   "id": "63c93245-6bad-4ad1-8e2b-a594a670e4ec",
   "metadata": {},
   "outputs": [],
   "source": [
    "# The above df could be converted to json, but it's not very readable\n",
    "# My resulting json matches the lab's target json in structure and data, but not in spacing"
   ]
  },
  {
   "cell_type": "code",
   "execution_count": 21,
   "id": "e2511f39-993d-4a4e-8637-64c26418cee3",
   "metadata": {},
   "outputs": [],
   "source": [
    "customers = {}"
   ]
  },
  {
   "cell_type": "code",
   "execution_count": 22,
   "id": "9ac153d8-9ca0-48ca-b440-7495b2193ecc",
   "metadata": {},
   "outputs": [],
   "source": [
    "for row in df.itertuples():\n",
    "    customer_id = row.Index[0]\n",
    "    account_id = row.Index[1]\n",
    "    balance = row.balance\n",
    "    \n",
    "    if customer_id not in customers:\n",
    "        customers[customer_id] = {'id': customer_id, 'accounts': []} \n",
    "    \n",
    "    account_data = {'account_id': account_id, 'balance': float(balance)}  \n",
    "    customers[customer_id]['accounts'].append(account_data)"
   ]
  },
  {
   "cell_type": "code",
   "execution_count": 23,
   "id": "767b5ec0-fd6c-4e4f-96fc-b947bdcb55bd",
   "metadata": {},
   "outputs": [],
   "source": [
    "customer_list = list(customers.values())"
   ]
  },
  {
   "cell_type": "code",
   "execution_count": 24,
   "id": "391f370a-3cb7-4c77-8722-c608c788fd49",
   "metadata": {},
   "outputs": [],
   "source": [
    "# Convert the list to JSON\n",
    "json_output = json.dumps(customer_list, indent=4)\n",
    " \n",
    "# Writing to sample.json\n",
    "with open('resources/output1.json', 'w') as output:\n",
    "    output.write(json_output)"
   ]
  }
 ],
 "metadata": {
  "kernelspec": {
   "display_name": "Python 3 (ipykernel)",
   "language": "python",
   "name": "python3"
  },
  "language_info": {
   "codemirror_mode": {
    "name": "ipython",
    "version": 3
   },
   "file_extension": ".py",
   "mimetype": "text/x-python",
   "name": "python",
   "nbconvert_exporter": "python",
   "pygments_lexer": "ipython3",
   "version": "3.12.0"
  }
 },
 "nbformat": 4,
 "nbformat_minor": 5
}
